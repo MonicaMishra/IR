{
 "cells": [
  {
   "cell_type": "code",
   "execution_count": 3,
   "metadata": {
    "collapsed": true
   },
   "outputs": [],
   "source": [
    "def open_file_and_read_data(term_id, filename, catalog):\n",
    "    start_offset_position = 0\n",
    "    len_position_after_offset = 1\n",
    "    with open(filename, \"r\") as file:\n",
    "        file.seek(catalog[term_id][start_offset_position])\n",
    "        row_reader = file.read(catalog[term_id][len_position_after_offset])\n",
    "    read = parser_returns_a_list(row_reader)\n",
    "    return read\n"
   ]
  },
  {
   "cell_type": "code",
   "execution_count": 4,
   "metadata": {
    "collapsed": true
   },
   "outputs": [],
   "source": [
    "def temp_parsed_inverted_list(term_id, filename, catalog, i_or_j):\n",
    "    term_dict_temp = {}\n",
    "    read = open_file_and_read_data(term_id, filename, catalog)\n",
    "    term_dict_temp[term_id] = read[term_id]\n",
    "    i_or_j += 1\n",
    "    return i_or_j, term_dict_temp\n",
    "        "
   ]
  },
  {
   "cell_type": "code",
   "execution_count": 6,
   "metadata": {
    "collapsed": true
   },
   "outputs": [],
   "source": [
    "def merger1(catalog1, catalog2, filename1, filename2):\n",
    "    key1 = list(catalog1.keys())\n",
    "    key2 = list(catalog2.keys())\n",
    "    key1.sort()\n",
    "    key2.sort()\n",
    "    new_catalog = {}\n",
    "    recently_seek_added_address = False\n",
    "    i, j = 0, 0\n",
    "    new_filename = str(int(time.time())) + \".txt\"\n",
    "    while(i < len(key1) and j < len(key2)):\n",
    "        temp_catalog = {}\n",
    "        if key1[i] == key2[j]:\n",
    "            term_dict_temp = {}    \n",
    "            term_id = key1[i]\n",
    "            read1 = open_file_and_read_data(term_id, filename1, catalog1)\n",
    "            read2 = open_file_and_read_data(term_id, filename2, catalog2)\n",
    "            read_merger = concatenate_two_term_inverted_lists(read1, read2, term_id)\n",
    "            term_dict_temp[term_id] = read_merger\n",
    "            i += 1\n",
    "            j += 1\n",
    "        elif key1[i] < key2[j]:\n",
    "            term_id = key1[i]\n",
    "            i, term_dict_temp = temp_parsed_inverted_list(term_id, filename1, catalog1, i)\n",
    "        else:\n",
    "            term_id = key2[j]\n",
    "            j, term_dict_temp = temp_parsed_inverted_list(term_id, filename2, catalog2, j)\n",
    "        temp_catalog = write_into_file(new_filename, term_dict_temp, recently_seek_added_address)\n",
    "        new_catalog[term_id] = temp_catalog[term_id]\n",
    "        recently_seek_added_address = sum(temp_catalog[term_id])\n",
    "        \n",
    "    while (i < len(key1)):\n",
    "        temp_catalog = {}\n",
    "        term_id = key1[i]\n",
    "        i, term_dict_temp = temp_parsed_inverted_list(term_id, filename1, catalog1, i)\n",
    "        temp_catalog = write_into_file(new_filename, term_dict_temp, recently_seek_added_address)\n",
    "        new_catalog[term_id] = temp_catalog[term_id]\n",
    "        recently_seek_added_address = sum(temp_catalog[term_id])\n",
    "    \n",
    "    while (j < len(key2)):\n",
    "        temp_catalog = {}\n",
    "        term_id = key2[j]\n",
    "        j, term_dict_temp = temp_parsed_inverted_list(term_id, filename2, catalog2, j)\n",
    "        temp_catalog = write_into_file(new_filename, term_dict_temp, recently_seek_added_address)\n",
    "        new_catalog[term_id] = temp_catalog[term_id]\n",
    "        recently_seek_added_address = sum(temp_catalog[term_id])\n",
    "    return new_filename, new_catalog\n"
   ]
  },
  {
   "cell_type": "code",
   "execution_count": null,
   "metadata": {
    "collapsed": true
   },
   "outputs": [],
   "source": [
    "def merging(catalog1, catalog2, filename1, filename2):\n",
    "    start_offset_position = 0\n",
    "    len_position_after_offset = 1\n",
    "    newn_catalog = {}\n",
    "    recently_seek_added_address = False\n",
    "    filename = str(int(time.time())) + \".txt\"\n",
    "    with open(filename1, \"r\") as file1:\n",
    "        for term_id in catalog1:\n",
    "            temp_catalog = {}\n",
    "            term_dict_temp = {}\n",
    "            file1.seek(catalog1[term_id][start_offset_position])\n",
    "            row_reader = file1.read(catalog1[term_id][len_position_after_offset])\n",
    "            read1 = parser_returns_a_list(row_reader)\n",
    "            if term_id in catalog2.keys():\n",
    "                with open(filename2, \"r\") as file2:\n",
    "                    file2.seek(catalog2[term_id][start_offset_position])\n",
    "                    row_reader = file2.read(catalog2[term_id][len_position_after_offset])\n",
    "                    read2 = parser_returns_a_list(row_reader)\n",
    "                    read_merger = concatenate_two_term_inverted_lists(read1, read2, term_id)\n",
    "                    term_dict_temp[term_id] = read_merger\n",
    "                    temp_catalog = write_into_file(filename, term_dict_temp, recently_seek_added_address)\n",
    "                    catalog2.pop(term_id)\n",
    "            else:\n",
    "                term_dict_temp[term_id] = read1[term_id]\n",
    "                temp_catalog = write_into_file(filename, term_dict_temp, recently_seek_added_address)\n",
    "            newn_catalog[term_id] = temp_catalog[term_id]\n",
    "            recently_seek_added_address = sum(temp_catalog[term_id])\n",
    "\n",
    "    with open(filename2, \"r\") as file2:\n",
    "        for term_id in catalog2.keys():\n",
    "            term_dict_temp = {}\n",
    "            file2.seek(catalog2[term_id][start_offset_position])\n",
    "            row_reader = file2.read(catalog2[term_id][len_position_after_offset])\n",
    "            read2 = parser_returns_a_list(row_reader)        \n",
    "            term_dict_temp[term_id] = read2[term_id]    \n",
    "            temp_catalog = write_into_file(filename, term_dict_temp, recently_seek_added_address)\n",
    "            newn_catalog[term_id] = temp_catalog[term_id]    \n",
    "            recently_seek_added_address = sum(temp_catalog[term_id])\n",
    "        #del (catalog2)\n",
    "    return filename, newn_catalog"
   ]
  },
  {
   "cell_type": "code",
   "execution_count": null,
   "metadata": {
    "collapsed": true
   },
   "outputs": [],
   "source": [
    "\n",
    "def concatenate_two_term_inverted_lists(read1, read2, term_id, shorter_version = True):\n",
    "    read_two_entries = read1[term_id] + read2[term_id]\n",
    "    if not shorter_version:\n",
    "        read_two_entries.sort()\n",
    "        i = 0\n",
    "        flag = True\n",
    "        while (i < len(read_two_entries) - 1):\n",
    "            if read_two_entries[i][0] == read_two_entries[i + 1][0]:\n",
    "                temp_list = [read_two_entries[i][0]] \n",
    "                if len(read_two_entries[i]) > len(read_two_entries[i + 1]):\n",
    "                    count_pos_list = read_two_entries[i][1:]\n",
    "                else:\n",
    "                    count_pos_list = read_two_entries[i + 1][1:]\n",
    "                read_two_entries[i] = [None]\n",
    "                flag = False\n",
    "                temp_list.extend(count_pos_list)\n",
    "                read_two_entries[i + 1] = temp_list\n",
    "                i += 2\n",
    "            else:\n",
    "                i += 1\n",
    "        if flag == False:\n",
    "            read_two_entries = [i for i in read_two_entries if i != [None]]    \n",
    "    return read_two_entries"
   ]
  }
 ],
 "metadata": {
  "kernelspec": {
   "display_name": "Python 3",
   "language": "python",
   "name": "python3"
  },
  "language_info": {
   "codemirror_mode": {
    "name": "ipython",
    "version": 3
   },
   "file_extension": ".py",
   "mimetype": "text/x-python",
   "name": "python",
   "nbconvert_exporter": "python",
   "pygments_lexer": "ipython3",
   "version": "3.6.3"
  }
 },
 "nbformat": 4,
 "nbformat_minor": 2
}
